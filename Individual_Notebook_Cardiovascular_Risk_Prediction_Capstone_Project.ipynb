{
  "nbformat": 4,
  "nbformat_minor": 0,
  "metadata": {
    "colab": {
      "provenance": []
    },
    "kernelspec": {
      "name": "python3",
      "display_name": "Python 3"
    },
    "language_info": {
      "name": "python"
    }
  },
  "cells": [
    {
      "cell_type": "markdown",
      "source": [
        "# **Project Name - Cardiovascular Risk Prediction**"
      ],
      "metadata": {
        "id": "86fVlU7IBIzm"
      }
    },
    {
      "cell_type": "markdown",
      "source": [
        "##### **Project Type**    - Supervised Machine Learning (Classification)\n",
        "##### **Contribution**    - Individual"
      ],
      "metadata": {
        "id": "jKyjANQVBVem"
      }
    },
    {
      "cell_type": "markdown",
      "source": [
        "# **Project Summary**"
      ],
      "metadata": {
        "id": "C4GxnO9mBi2X"
      }
    },
    {
      "cell_type": "markdown",
      "source": [
        "write in 400-500 words here.."
      ],
      "metadata": {
        "id": "Q6oAlP0EBuFd"
      }
    },
    {
      "cell_type": "markdown",
      "source": [
        "# **GitHub Link** "
      ],
      "metadata": {
        "id": "QCz4yvohByjI"
      }
    },
    {
      "cell_type": "markdown",
      "source": [
        "Paste GitHub Link Here"
      ],
      "metadata": {
        "id": "UcK8sv_4B6fu"
      }
    },
    {
      "cell_type": "markdown",
      "source": [
        "# **Problem Statement**"
      ],
      "metadata": {
        "id": "Ygu0dQN9B_sz"
      }
    },
    {
      "cell_type": "markdown",
      "source": [
        "Define Problem Statement Here.."
      ],
      "metadata": {
        "id": "a9_mqrNTCGlj"
      }
    },
    {
      "cell_type": "code",
      "execution_count": null,
      "metadata": {
        "id": "F-CRDOetqPnr"
      },
      "outputs": [],
      "source": []
    }
  ]
}